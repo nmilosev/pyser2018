{
  "nbformat": 4,
  "nbformat_minor": 0,
  "metadata": {
    "colab": {
      "name": "1-pyser-tf.ipynb",
      "version": "0.3.2",
      "views": {},
      "default_view": {},
      "provenance": []
    },
    "kernelspec": {
      "name": "python3",
      "display_name": "Python 3"
    },
    "accelerator": "GPU"
  },
  "cells": [
    {
      "metadata": {
        "id": "ILDAcwAqdJEO",
        "colab_type": "text"
      },
      "cell_type": "markdown",
      "source": [
        "# Pyser 2018 - Introduction to neural networks with Keras and Tensorflow\n",
        "# Welcome to TensorFlow!\n",
        "\n",
        "TensorFlow™ is an open source software library for high performance numerical computation. Its flexible architecture allows easy deployment of computation across a variety of platforms (CPUs, GPUs, TPUs), and from desktops to clusters of servers to mobile and edge devices. Originally developed by researchers and engineers from the Google Brain team within Google’s AI organization, it comes with strong support for machine learning and deep learning and the flexible numerical computation core is used across many other scientific domains.\n",
        "\n",
        "https://www.tensorflow.org/"
      ]
    },
    {
      "metadata": {
        "id": "UKBdkW-bnwRK",
        "colab_type": "text"
      },
      "cell_type": "markdown",
      "source": [
        "# Check GPU"
      ]
    },
    {
      "metadata": {
        "id": "e-fFi40jnzQX",
        "colab_type": "code",
        "colab": {
          "autoexec": {
            "startup": false,
            "wait_interval": 0
          }
        }
      },
      "cell_type": "code",
      "source": [
        "import tensorflow as tf\n",
        "from tensorflow.python.client import device_lib\n",
        "\n",
        "def get_available_gpus():\n",
        "  local_device_protos = device_lib.list_local_devices()\n",
        "  return [x.name for x in local_device_protos if x.device_type == 'GPU']\n",
        "\n",
        "name = get_available_gpus()\n",
        "print(\"GPUS:{}\".format(name))\n",
        "\n",
        "!/opt/bin/nvidia-smi"
      ],
      "execution_count": 0,
      "outputs": []
    },
    {
      "metadata": {
        "id": "uIgGpjVhZdvq",
        "colab_type": "text"
      },
      "cell_type": "markdown",
      "source": [
        "# Basic Tensorflow session\n",
        "\n",
        "https://www.tensorflow.org/programmers_guide/graphs\n",
        "\n"
      ]
    },
    {
      "metadata": {
        "id": "4TPCJJDAZB7x",
        "colab_type": "code",
        "colab": {
          "autoexec": {
            "startup": false,
            "wait_interval": 0
          }
        }
      },
      "cell_type": "code",
      "source": [
        "import tensorflow as tf\n",
        "import numpy as np\n",
        "\n",
        "sess = tf.Session()\n",
        "print (\"TF Session opened\")"
      ],
      "execution_count": 0,
      "outputs": []
    },
    {
      "metadata": {
        "id": "AZdph5DsZsbr",
        "colab_type": "text"
      },
      "cell_type": "markdown",
      "source": [
        "# Tensorflow constants\n",
        "\n",
        "https://www.tensorflow.org/api_guides/python/constant_op"
      ]
    },
    {
      "metadata": {
        "id": "ra5qG3l6Z1Ls",
        "colab_type": "code",
        "colab": {
          "autoexec": {
            "startup": false,
            "wait_interval": 0
          }
        }
      },
      "cell_type": "code",
      "source": [
        "def print_tf(x):\n",
        "    print(\"type:\\n %s\" % (type(x)))\n",
        "    print(\"value:\\n %s\" % (x))\n",
        "hello = tf.constant(\"Hello pyser!\")\n",
        "print_tf(hello)"
      ],
      "execution_count": 0,
      "outputs": []
    },
    {
      "metadata": {
        "id": "Yd3_jk0EdDHD",
        "colab_type": "code",
        "colab": {
          "autoexec": {
            "startup": false,
            "wait_interval": 0
          }
        }
      },
      "cell_type": "code",
      "source": [
        "# To actually compute:\n",
        "\n",
        "hello_out = sess.run(hello)\n",
        "print_tf(hello_out)"
      ],
      "execution_count": 0,
      "outputs": []
    },
    {
      "metadata": {
        "id": "6eYnw2KhaC4M",
        "colab_type": "text"
      },
      "cell_type": "markdown",
      "source": [
        "# Number constants"
      ]
    },
    {
      "metadata": {
        "id": "9-6sUFFMaEV9",
        "colab_type": "code",
        "colab": {
          "autoexec": {
            "startup": false,
            "wait_interval": 0
          }
        }
      },
      "cell_type": "code",
      "source": [
        "a = tf.constant(1.5)\n",
        "b = tf.constant(2.5)\n",
        "print_tf(a)\n",
        "print_tf(b)\n",
        "\n",
        "a_out = sess.run(a)\n",
        "b_out = sess.run(b)\n",
        "print_tf(a_out)\n",
        "print_tf(b_out)"
      ],
      "execution_count": 0,
      "outputs": []
    },
    {
      "metadata": {
        "id": "QVEzOstRaH0M",
        "colab_type": "text"
      },
      "cell_type": "markdown",
      "source": [
        "# Operators\n",
        "\n",
        "https://www.tensorflow.org/api_guides/python/math_ops"
      ]
    },
    {
      "metadata": {
        "id": "s79-tKEEaLBT",
        "colab_type": "code",
        "colab": {
          "autoexec": {
            "startup": false,
            "wait_interval": 0
          }
        }
      },
      "cell_type": "code",
      "source": [
        "a_plus_b = tf.add(a, b)\n",
        "print_tf(a_plus_b)\n",
        "\n",
        "a_plus_b_out = sess.run(a_plus_b)\n",
        "print_tf(a_plus_b_out)\n",
        "\n",
        "a_mul_b = tf.multiply(a, b)\n",
        "a_mul_b_out = sess.run(a_mul_b)\n",
        "print_tf(a_mul_b_out)"
      ],
      "execution_count": 0,
      "outputs": []
    },
    {
      "metadata": {
        "id": "5neIF7c-aUUc",
        "colab_type": "text"
      },
      "cell_type": "markdown",
      "source": [
        "# Variables\n",
        "\n",
        "https://www.tensorflow.org/programmers_guide/variables"
      ]
    },
    {
      "metadata": {
        "id": "BtcaqsgcaVqk",
        "colab_type": "code",
        "colab": {
          "autoexec": {
            "startup": false,
            "wait_interval": 0
          }
        }
      },
      "cell_type": "code",
      "source": [
        "weight = tf.Variable(tf.random_normal([5, 2], stddev=0.1))\n",
        "print_tf(weight)\n",
        "\n",
        "init = tf.global_variables_initializer()\n",
        "sess.run(init)\n",
        "\n",
        "weight_out = sess.run(weight)\n",
        "print_tf(weight_out)"
      ],
      "execution_count": 0,
      "outputs": []
    },
    {
      "metadata": {
        "id": "UEDwVAT8ai4m",
        "colab_type": "text"
      },
      "cell_type": "markdown",
      "source": [
        "# Placeholders\n",
        "\n",
        "https://stackoverflow.com/questions/36693740/whats-the-difference-between-tf-placeholder-and-tf-variable"
      ]
    },
    {
      "metadata": {
        "id": "5VVfBljYalQd",
        "colab_type": "code",
        "colab": {
          "autoexec": {
            "startup": false,
            "wait_interval": 0
          }
        }
      },
      "cell_type": "code",
      "source": [
        "x = tf.placeholder(tf.float32, [None, 5])\n",
        "print_tf(x)"
      ],
      "execution_count": 0,
      "outputs": []
    },
    {
      "metadata": {
        "id": "yY1iT2lDancu",
        "colab_type": "text"
      },
      "cell_type": "markdown",
      "source": [
        "# Complex operations\n",
        "\n"
      ]
    },
    {
      "metadata": {
        "id": "rBzt9l3Yamqu",
        "colab_type": "code",
        "colab": {
          "autoexec": {
            "startup": false,
            "wait_interval": 0
          }
        }
      },
      "cell_type": "code",
      "source": [
        "oper = tf.matmul(x, weight)\n",
        "print_tf(oper)\n",
        "\n",
        "data = np.random.rand(1, 5)\n",
        "oper_out = sess.run(oper, feed_dict={x: data})\n",
        "print_tf(oper_out)\n",
        "\n",
        "data = np.random.rand(2, 5)\n",
        "oper_out = sess.run(oper, feed_dict={x: data})\n",
        "print_tf(oper_out)"
      ],
      "execution_count": 0,
      "outputs": []
    },
    {
      "metadata": {
        "id": "YL-2t4Z8d1kn",
        "colab_type": "text"
      },
      "cell_type": "markdown",
      "source": [
        "# Pure TensorFlow Neural Net (XOR)"
      ]
    },
    {
      "metadata": {
        "id": "kHh8t-x3d6Vm",
        "colab_type": "code",
        "colab": {
          "autoexec": {
            "startup": false,
            "wait_interval": 0
          }
        }
      },
      "cell_type": "code",
      "source": [
        "sess = tf.InteractiveSession()\n",
        "\n",
        "# Desired input output mapping of XOR function:\n",
        "x_ = [[0, 0], [0, 1], [1, 0], [1, 1]] # input\n",
        "#labels=[0,      1,      1,      0]   # output =>\n",
        "expect=[[1,0],  [0,1],  [0,1], [1,0]] # ONE HOT REPRESENTATION! 'class' [1,0]==0 [0,1]==1\n",
        "\n",
        "x = tf.placeholder(\"float\", [None,2])\n",
        "y_ = tf.placeholder(\"float\", [None, 2])\n",
        "\n",
        "number_hidden_nodes = 20 # 20 outputs to create some room for negatives and positives\n",
        "\n",
        "W = tf.Variable(tf.random_uniform([2, number_hidden_nodes], -.01, .01))\n",
        "b = tf.Variable(tf.random_uniform([number_hidden_nodes], -.01, .01))\n",
        "hidden  = tf.nn.relu(tf.matmul(x,W) + b) # first layer.\n",
        "\n",
        " # the XOR function is the first nontrivial function, for which a two layer network is needed.\n",
        "W2 = tf.Variable(tf.random_uniform([number_hidden_nodes,2], -.1, .1))\n",
        "b2 = tf.Variable(tf.zeros([2]))\n",
        "hidden2 = tf.matmul(hidden, W2)#+b2\n",
        "\n",
        "y = tf.nn.softmax(hidden2)\n",
        "\n",
        "# Define loss and optimizer\n",
        "cross_entropy = -tf.reduce_sum(y_*tf.log(y))\n",
        "train_step = tf.train.GradientDescentOptimizer(0.2).minimize(cross_entropy)\n",
        "\n",
        "# Train\n",
        "tf.initialize_all_variables().run()\n",
        "for step in range(1000):\n",
        "    feed_dict = {x: x_, y_:expect } # feed the net with our inputs and desired outputs.\n",
        "    e, a = sess.run([cross_entropy,train_step], feed_dict)\n",
        "    if e<1:\n",
        "      break # early stopping\n",
        "    print (\"step %d : entropy %s\" % (step,e)) # error/loss should decrease over time\n",
        "\n",
        "# Test trained model\n",
        "correct_prediction = tf.equal(tf.argmax(y,1), tf.argmax(y_,1)) # argmax along dim-1\n",
        "accuracy = tf.reduce_mean(tf.cast(correct_prediction, \"float\")) # [True, False, True, True] -> [1,0,1,1] -> 0.75.\n",
        "\n",
        "print (\"accuracy %s\" % (accuracy.eval({x: x_, y_: expect})))\n",
        "\n",
        "learned_output = tf.argmax(y, 1)\n",
        "print (\"outputs\", learned_output.eval({x: x_}))\n",
        "\n",
        "sess.close()"
      ],
      "execution_count": 0,
      "outputs": []
    }
  ]
}